{
  "cells": [
    {
      "cell_type": "markdown",
      "metadata": {},
      "source": [
        "<h1>Соколов Б ИУ5-64Б Рк2</h1>"
      ]
    },
    {
      "cell_type": "markdown",
      "metadata": {},
      "source": [
        "<h1>Задание.</h1>\n",
        "Для заданного набора данных states_all постройте модели классификации или регрессии (в зависимости от конкретной задачи, рассматриваемой в наборе данных). Для построения моделей используйте методы Линейная/логистическая регрессия и Градиентный бустинг. Оцените качество моделей на основе подходящих метрик качества (не менее двух метрик). Какие метрики качества Вы использовали и почему? Какие выводы Вы можете сделать о качестве построенных моделей? Для построения моделей необходимо выполнить требуемую предобработку данных: заполнение пропусков, кодирование категориальных признаков, и т.д.\n",
        "\n"
      ]
    },
    {
      "cell_type": "markdown",
      "metadata": {},
      "source": [
        "<h1>Датасет</h1>\n",
        "https://www.kaggle.com/datasets/noriuk/us-education-datasets-unification-project?resource=download"
      ]
    },
    {
      "cell_type": "code",
      "execution_count": 1,
      "metadata": {
        "id": "IQut2TfYgH-Z"
      },
      "outputs": [],
      "source": [
        "import pandas as pd\n",
        "from sklearn.model_selection import train_test_split\n",
        "from sklearn.linear_model import LogisticRegression\n",
        "from sklearn.ensemble import GradientBoostingClassifier\n",
        "from sklearn.metrics import accuracy_score, roc_auc_score"
      ]
    },
    {
      "cell_type": "code",
      "execution_count": 2,
      "metadata": {
        "id": "iFRvXFAUjcKv"
      },
      "outputs": [],
      "source": [
        "data = pd.read_csv('states_all.csv', sep=\",\")"
      ]
    },
    {
      "cell_type": "code",
      "execution_count": 3,
      "metadata": {
        "colab": {
          "base_uri": "https://localhost:8080/"
        },
        "id": "okW7mDVgjlx-",
        "outputId": "25997fd3-48b4-4173-e3f9-905501587e8e"
      },
      "outputs": [
        {
          "data": {
            "text/plain": [
              "PRIMARY_KEY                      object\n",
              "STATE                            object\n",
              "YEAR                              int64\n",
              "ENROLL                          float64\n",
              "TOTAL_REVENUE                   float64\n",
              "FEDERAL_REVENUE                 float64\n",
              "STATE_REVENUE                   float64\n",
              "LOCAL_REVENUE                   float64\n",
              "TOTAL_EXPENDITURE               float64\n",
              "INSTRUCTION_EXPENDITURE         float64\n",
              "SUPPORT_SERVICES_EXPENDITURE    float64\n",
              "OTHER_EXPENDITURE               float64\n",
              "CAPITAL_OUTLAY_EXPENDITURE      float64\n",
              "GRADES_PK_G                     float64\n",
              "GRADES_KG_G                     float64\n",
              "GRADES_4_G                      float64\n",
              "GRADES_8_G                      float64\n",
              "GRADES_12_G                     float64\n",
              "GRADES_1_8_G                    float64\n",
              "GRADES_9_12_G                   float64\n",
              "GRADES_ALL_G                    float64\n",
              "AVG_MATH_4_SCORE                float64\n",
              "AVG_MATH_8_SCORE                float64\n",
              "AVG_READING_4_SCORE             float64\n",
              "AVG_READING_8_SCORE             float64\n",
              "dtype: object"
            ]
          },
          "execution_count": 3,
          "metadata": {},
          "output_type": "execute_result"
        }
      ],
      "source": [
        "data.dtypes"
      ]
    },
    {
      "cell_type": "markdown",
      "metadata": {},
      "source": [
        "Находим пропуски"
      ]
    },
    {
      "cell_type": "code",
      "execution_count": 4,
      "metadata": {
        "colab": {
          "base_uri": "https://localhost:8080/"
        },
        "id": "ZEvo8BCzjphM",
        "outputId": "e6c6eb8c-003a-43cd-f8c3-a14b0c847710"
      },
      "outputs": [
        {
          "data": {
            "text/plain": [
              "PRIMARY_KEY                        0\n",
              "STATE                              0\n",
              "YEAR                               0\n",
              "ENROLL                           491\n",
              "TOTAL_REVENUE                    440\n",
              "FEDERAL_REVENUE                  440\n",
              "STATE_REVENUE                    440\n",
              "LOCAL_REVENUE                    440\n",
              "TOTAL_EXPENDITURE                440\n",
              "INSTRUCTION_EXPENDITURE          440\n",
              "SUPPORT_SERVICES_EXPENDITURE     440\n",
              "OTHER_EXPENDITURE                491\n",
              "CAPITAL_OUTLAY_EXPENDITURE       440\n",
              "GRADES_PK_G                      173\n",
              "GRADES_KG_G                       83\n",
              "GRADES_4_G                        83\n",
              "GRADES_8_G                        83\n",
              "GRADES_12_G                       83\n",
              "GRADES_1_8_G                     695\n",
              "GRADES_9_12_G                    644\n",
              "GRADES_ALL_G                      83\n",
              "AVG_MATH_4_SCORE                1150\n",
              "AVG_MATH_8_SCORE                1113\n",
              "AVG_READING_4_SCORE             1065\n",
              "AVG_READING_8_SCORE             1153\n",
              "dtype: int64"
            ]
          },
          "execution_count": 4,
          "metadata": {},
          "output_type": "execute_result"
        }
      ],
      "source": [
        "# проверим есть ли пропущенные значения\n",
        "data.isnull().sum()"
      ]
    },
    {
      "cell_type": "markdown",
      "metadata": {},
      "source": [
        "Удалим всё ненужное"
      ]
    },
    {
      "cell_type": "code",
      "execution_count": 6,
      "metadata": {
        "colab": {
          "base_uri": "https://localhost:8080/",
          "height": 256
        },
        "id": "u1okezLxjrvc",
        "outputId": "46d6af4a-4d1f-4bed-ce32-323cc78b33cc"
      },
      "outputs": [
        {
          "data": {
            "text/plain": [
              "YEAR                            0\n",
              "ENROLL                          0\n",
              "TOTAL_REVENUE                   0\n",
              "FEDERAL_REVENUE                 0\n",
              "STATE_REVENUE                   0\n",
              "LOCAL_REVENUE                   0\n",
              "TOTAL_EXPENDITURE               0\n",
              "INSTRUCTION_EXPENDITURE         0\n",
              "SUPPORT_SERVICES_EXPENDITURE    0\n",
              "OTHER_EXPENDITURE               0\n",
              "CAPITAL_OUTLAY_EXPENDITURE      0\n",
              "GRADES_4_G                      0\n",
              "GRADES_8_G                      0\n",
              "GRADES_12_G                     0\n",
              "GRADES_ALL_G                    0\n",
              "dtype: int64"
            ]
          },
          "execution_count": 6,
          "metadata": {},
          "output_type": "execute_result"
        }
      ],
      "source": [
        "data.dropna(subset=['ENROLL'], inplace=True)\n",
        "data.dropna(axis='columns', inplace=True)\n",
        "data = data.drop(['PRIMARY_KEY', 'STATE', 'GRADES_KG_G'], axis=1)\n",
        "data.isnull().sum()"
      ]
    },
    {
      "cell_type": "code",
      "execution_count": 7,
      "metadata": {
        "colab": {
          "base_uri": "https://localhost:8080/"
        },
        "id": "Ow810VtvpUOl",
        "outputId": "0c533a3c-75f2-40b7-8ece-a78ab31371b0"
      },
      "outputs": [
        {
          "name": "stdout",
          "output_type": "stream",
          "text": [
            "Всего строк: 1224\n"
          ]
        }
      ],
      "source": [
        "total_count = data.shape[0]\n",
        "print('Всего строк: {}'.format(total_count))"
      ]
    },
    {
      "cell_type": "code",
      "execution_count": 13,
      "metadata": {},
      "outputs": [
        {
          "data": {
            "text/html": [
              "<div>\n",
              "<style scoped>\n",
              "    .dataframe tbody tr th:only-of-type {\n",
              "        vertical-align: middle;\n",
              "    }\n",
              "\n",
              "    .dataframe tbody tr th {\n",
              "        vertical-align: top;\n",
              "    }\n",
              "\n",
              "    .dataframe thead th {\n",
              "        text-align: right;\n",
              "    }\n",
              "</style>\n",
              "<table border=\"1\" class=\"dataframe\">\n",
              "  <thead>\n",
              "    <tr style=\"text-align: right;\">\n",
              "      <th></th>\n",
              "      <th>YEAR</th>\n",
              "      <th>ENROLL</th>\n",
              "      <th>TOTAL_REVENUE</th>\n",
              "      <th>FEDERAL_REVENUE</th>\n",
              "      <th>STATE_REVENUE</th>\n",
              "      <th>LOCAL_REVENUE</th>\n",
              "      <th>TOTAL_EXPENDITURE</th>\n",
              "      <th>INSTRUCTION_EXPENDITURE</th>\n",
              "      <th>SUPPORT_SERVICES_EXPENDITURE</th>\n",
              "      <th>OTHER_EXPENDITURE</th>\n",
              "      <th>CAPITAL_OUTLAY_EXPENDITURE</th>\n",
              "      <th>GRADES_4_G</th>\n",
              "      <th>GRADES_8_G</th>\n",
              "      <th>GRADES_12_G</th>\n",
              "      <th>GRADES_ALL_G</th>\n",
              "    </tr>\n",
              "  </thead>\n",
              "  <tbody>\n",
              "    <tr>\n",
              "      <th>51</th>\n",
              "      <td>1993</td>\n",
              "      <td>727716.0</td>\n",
              "      <td>2827391.0</td>\n",
              "      <td>331409.0</td>\n",
              "      <td>1729295.0</td>\n",
              "      <td>766687.0</td>\n",
              "      <td>2833433.0</td>\n",
              "      <td>1564558.0</td>\n",
              "      <td>794146.0</td>\n",
              "      <td>237222.0</td>\n",
              "      <td>204207.0</td>\n",
              "      <td>57497.0</td>\n",
              "      <td>60004.0</td>\n",
              "      <td>39900.0</td>\n",
              "      <td>734288.0</td>\n",
              "    </tr>\n",
              "    <tr>\n",
              "      <th>52</th>\n",
              "      <td>1993</td>\n",
              "      <td>121156.0</td>\n",
              "      <td>1191398.0</td>\n",
              "      <td>176150.0</td>\n",
              "      <td>775829.0</td>\n",
              "      <td>239419.0</td>\n",
              "      <td>1126398.0</td>\n",
              "      <td>494917.0</td>\n",
              "      <td>433788.0</td>\n",
              "      <td>36291.0</td>\n",
              "      <td>135791.0</td>\n",
              "      <td>10156.0</td>\n",
              "      <td>9160.0</td>\n",
              "      <td>6975.0</td>\n",
              "      <td>125948.0</td>\n",
              "    </tr>\n",
              "    <tr>\n",
              "      <th>53</th>\n",
              "      <td>1993</td>\n",
              "      <td>676297.0</td>\n",
              "      <td>3427976.0</td>\n",
              "      <td>318465.0</td>\n",
              "      <td>1415407.0</td>\n",
              "      <td>1694104.0</td>\n",
              "      <td>3623946.0</td>\n",
              "      <td>1578889.0</td>\n",
              "      <td>1000914.0</td>\n",
              "      <td>164083.0</td>\n",
              "      <td>680139.0</td>\n",
              "      <td>57701.0</td>\n",
              "      <td>53500.0</td>\n",
              "      <td>37614.0</td>\n",
              "      <td>709453.0</td>\n",
              "    </tr>\n",
              "    <tr>\n",
              "      <th>54</th>\n",
              "      <td>1993</td>\n",
              "      <td>311432.0</td>\n",
              "      <td>1346909.0</td>\n",
              "      <td>128196.0</td>\n",
              "      <td>771079.0</td>\n",
              "      <td>447634.0</td>\n",
              "      <td>1376067.0</td>\n",
              "      <td>782791.0</td>\n",
              "      <td>386526.0</td>\n",
              "      <td>68617.0</td>\n",
              "      <td>97824.0</td>\n",
              "      <td>34255.0</td>\n",
              "      <td>36471.0</td>\n",
              "      <td>27169.0</td>\n",
              "      <td>444271.0</td>\n",
              "    </tr>\n",
              "    <tr>\n",
              "      <th>55</th>\n",
              "      <td>1993</td>\n",
              "      <td>5129788.0</td>\n",
              "      <td>28043338.0</td>\n",
              "      <td>2151157.0</td>\n",
              "      <td>17064146.0</td>\n",
              "      <td>8828035.0</td>\n",
              "      <td>28110986.0</td>\n",
              "      <td>15281147.0</td>\n",
              "      <td>8914559.0</td>\n",
              "      <td>1608514.0</td>\n",
              "      <td>1944760.0</td>\n",
              "      <td>420233.0</td>\n",
              "      <td>380223.0</td>\n",
              "      <td>277271.0</td>\n",
              "      <td>5327231.0</td>\n",
              "    </tr>\n",
              "  </tbody>\n",
              "</table>\n",
              "</div>"
            ],
            "text/plain": [
              "    YEAR     ENROLL  TOTAL_REVENUE  FEDERAL_REVENUE  STATE_REVENUE  \\\n",
              "51  1993   727716.0      2827391.0         331409.0      1729295.0   \n",
              "52  1993   121156.0      1191398.0         176150.0       775829.0   \n",
              "53  1993   676297.0      3427976.0         318465.0      1415407.0   \n",
              "54  1993   311432.0      1346909.0         128196.0       771079.0   \n",
              "55  1993  5129788.0     28043338.0        2151157.0     17064146.0   \n",
              "\n",
              "    LOCAL_REVENUE  TOTAL_EXPENDITURE  INSTRUCTION_EXPENDITURE  \\\n",
              "51       766687.0          2833433.0                1564558.0   \n",
              "52       239419.0          1126398.0                 494917.0   \n",
              "53      1694104.0          3623946.0                1578889.0   \n",
              "54       447634.0          1376067.0                 782791.0   \n",
              "55      8828035.0         28110986.0               15281147.0   \n",
              "\n",
              "    SUPPORT_SERVICES_EXPENDITURE  OTHER_EXPENDITURE  \\\n",
              "51                      794146.0           237222.0   \n",
              "52                      433788.0            36291.0   \n",
              "53                     1000914.0           164083.0   \n",
              "54                      386526.0            68617.0   \n",
              "55                     8914559.0          1608514.0   \n",
              "\n",
              "    CAPITAL_OUTLAY_EXPENDITURE  GRADES_4_G  GRADES_8_G  GRADES_12_G  \\\n",
              "51                    204207.0     57497.0     60004.0      39900.0   \n",
              "52                    135791.0     10156.0      9160.0       6975.0   \n",
              "53                    680139.0     57701.0     53500.0      37614.0   \n",
              "54                     97824.0     34255.0     36471.0      27169.0   \n",
              "55                   1944760.0    420233.0    380223.0     277271.0   \n",
              "\n",
              "    GRADES_ALL_G  \n",
              "51      734288.0  \n",
              "52      125948.0  \n",
              "53      709453.0  \n",
              "54      444271.0  \n",
              "55     5327231.0  "
            ]
          },
          "execution_count": 13,
          "metadata": {},
          "output_type": "execute_result"
        }
      ],
      "source": [
        "data.head()"
      ]
    },
    {
      "cell_type": "code",
      "execution_count": 12,
      "metadata": {},
      "outputs": [],
      "source": [
        "data = pd.get_dummies(data)"
      ]
    },
    {
      "cell_type": "code",
      "execution_count": 15,
      "metadata": {},
      "outputs": [],
      "source": [
        "from sklearn.preprocessing import StandardScaler\n",
        "\n",
        "scaler = StandardScaler()\n",
        "num_features = data.select_dtypes(include=['float64', 'int64']).columns\n",
        "data[num_features] = scaler.fit_transform(data[num_features])"
      ]
    },
    {
      "cell_type": "markdown",
      "metadata": {},
      "source": [
        "Разделим выборки"
      ]
    },
    {
      "cell_type": "code",
      "execution_count": 18,
      "metadata": {},
      "outputs": [],
      "source": [
        "from sklearn.model_selection import train_test_split\n",
        "\n",
        "x = data.drop(columns=['TOTAL_REVENUE']) \n",
        "y = data['TOTAL_REVENUE']\n",
        "\n",
        "x_train, x_test, y_train, y_test = train_test_split(x, y, test_size=0.2, random_state=42)"
      ]
    },
    {
      "cell_type": "markdown",
      "metadata": {},
      "source": [
        "Линейная Регрессия"
      ]
    },
    {
      "cell_type": "code",
      "execution_count": 19,
      "metadata": {},
      "outputs": [
        {
          "name": "stdout",
          "output_type": "stream",
          "text": [
            "Модель линейной регрессии:\n",
            "Среднеквадратичная ошибка (MSE) = 1.8408185786836997e-15\n",
            "Средняя абсолютная ошибка (MAE) = 2.7410860140183106e-09\n",
            "Коэффициент детерминации (R²) = 0.9999999999999981\n"
          ]
        }
      ],
      "source": [
        "from sklearn.linear_model import LinearRegression\n",
        "from sklearn.metrics import mean_absolute_error, mean_squared_error, r2_score\n",
        "\n",
        "lr = LinearRegression()\n",
        "lr.fit(x_train, y_train)\n",
        "\n",
        "y_pred_lr = lr.predict(x_test)\n",
        "mae = mean_absolute_error(y_test, y_pred_lr)\n",
        "mse = mean_squared_error(y_test, y_pred_lr)\n",
        "r2 = r2_score(y_test, y_pred_lr)\n",
        "\n",
        "print(f\"Модель линейной регрессии:\")\n",
        "print(f\"Среднеквадратичная ошибка (MSE) = {mse}\")\n",
        "print(f\"Средняя абсолютная ошибка (MAE) = {mae}\")\n",
        "print(f\"Коэффициент детерминации (R²) = {r2}\")"
      ]
    },
    {
      "cell_type": "markdown",
      "metadata": {},
      "source": [
        "Градиентный бустинг"
      ]
    },
    {
      "cell_type": "code",
      "execution_count": 23,
      "metadata": {},
      "outputs": [],
      "source": [
        "from sklearn.ensemble import GradientBoostingRegressor\n",
        "\n",
        "# Создание модели градиентного бустинга\n",
        "gb_model = GradientBoostingRegressor()\n",
        "\n",
        "# Обучение модели на обучающих данных\n",
        "gb_model.fit(x_train, y_train)\n",
        "\n",
        "# Предсказание значений на тестовых данных\n",
        "y_pred = gb_model.predict(x_test)\n"
      ]
    },
    {
      "cell_type": "code",
      "execution_count": 25,
      "metadata": {},
      "outputs": [
        {
          "name": "stdout",
          "output_type": "stream",
          "text": [
            "Среднеквадратичная ошибка (MSE) =  0.0013856181570769666\n",
            "Коэффициент детерминации (R²) =  0.9985392302608849\n"
          ]
        }
      ],
      "source": [
        "from sklearn.metrics import mean_squared_error, r2_score\n",
        "\n",
        "# Оценка качества модели на тестовых данных\n",
        "mse = mean_squared_error(y_test, y_pred)\n",
        "r2 = r2_score(y_test, y_pred)\n",
        "\n",
        "print(\"Среднеквадратичная ошибка (MSE) = \", mse)\n",
        "print(\"Коэффициент детерминации (R²) = \", r2)"
      ]
    },
    {
      "cell_type": "markdown",
      "metadata": {},
      "source": [
        "<h1>Вывод</h1>"
      ]
    },
    {
      "cell_type": "markdown",
      "metadata": {},
      "source": [
        "Результаты показывают, что линейная регрессия дала лучшие предсказания по сравнению с градиентным бустингом.\n",
        "\n",
        "Значение коэффициента детерминации (R^2) близкое к 1 (0.9999999999999981) для линейной регрессии указывает на то, что модель очень хорошо объясняет изменчивость в данных.\n",
        "\n",
        "Среднеквадратичная ошибка (MSE) величиной 0.0013856181570769666 для градиентного бустинга и Среднеквадратичная ошибка (MSE) = 1.8408185786836997e-15 для Линейной регрессии говорит о том, что значение MSE близкое к нулю указывает на то, что модель дает превосходные предсказания и хорошо подходит для выбранных данных."
      ]
    }
  ],
  "metadata": {
    "colab": {
      "provenance": []
    },
    "kernelspec": {
      "display_name": "Python 3",
      "name": "python3"
    },
    "language_info": {
      "codemirror_mode": {
        "name": "ipython",
        "version": 3
      },
      "file_extension": ".py",
      "mimetype": "text/x-python",
      "name": "python",
      "nbconvert_exporter": "python",
      "pygments_lexer": "ipython3",
      "version": "3.10.11"
    }
  },
  "nbformat": 4,
  "nbformat_minor": 0
}
